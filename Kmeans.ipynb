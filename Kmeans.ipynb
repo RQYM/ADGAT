{
  "nbformat": 4,
  "nbformat_minor": 0,
  "metadata": {
    "colab": {
      "name": "Kmeans.ipynb",
      "provenance": [],
      "authorship_tag": "ABX9TyMop6phqICSgxgEoV187XLq",
      "include_colab_link": true
    },
    "kernelspec": {
      "name": "python3",
      "display_name": "Python 3"
    },
    "language_info": {
      "name": "python"
    }
  },
  "cells": [
    {
      "cell_type": "markdown",
      "metadata": {
        "id": "view-in-github",
        "colab_type": "text"
      },
      "source": [
        "<a href=\"https://colab.research.google.com/github/RQYM/ADGAT/blob/main/Kmeans.ipynb\" target=\"_parent\"><img src=\"https://colab.research.google.com/assets/colab-badge.svg\" alt=\"Open In Colab\"/></a>"
      ]
    },
    {
      "cell_type": "code",
      "execution_count": 29,
      "metadata": {
        "colab": {
          "base_uri": "https://localhost:8080/"
        },
        "id": "rZ_mNJ6IroN4",
        "outputId": "382da1fa-9d68-4250-8e8c-1b01f003e50d"
      },
      "outputs": [
        {
          "output_type": "stream",
          "name": "stdout",
          "text": [
            "Drive already mounted at /content/drive; to attempt to forcibly remount, call drive.mount(\"/content/drive\", force_remount=True).\n"
          ]
        }
      ],
      "source": [
        "import os\n",
        "import pandas as pd \n",
        "import re\n",
        "from google.colab import drive\n",
        "import numpy as np\n",
        "from sklearn.cluster import KMeans\n",
        "from matplotlib import pyplot as plt\n",
        "from sklearn.mixture import GaussianMixture\n",
        "drive.mount('/content/drive')"
      ]
    },
    {
      "cell_type": "code",
      "source": [
        "path = '/content/drive/MyDrive/TSdata/Subset of Funds/'\n",
        "directories = {\n",
        "   \"CalmarRatio\" : '/content/drive/MyDrive/TSdata/Subset of Funds/CalmarRatio_3Y.parquet',\n",
        "   \"Kappa\"    : '/content/drive/MyDrive/TSdata/Subset of Funds/Kappa_3Y.parquet',\n",
        "   \"MaxDrawdown\" : '/content/drive/MyDrive/TSdata/Subset of Funds/MaxDrawdown_3Y.parquet',\n",
        "   \"MRAR\"    :  '/content/drive/MyDrive/TSdata/Subset of Funds/MRAR_3Y.parquet',\n",
        "   \"Return\"   : '/content/drive/MyDrive/TSdata/Subset of Funds/Return_3Y.parquet',\n",
        "   \"Sharpe\"   : '/content/drive/MyDrive/TSdata/Subset of Funds/Sharpe_3Y.parquet',\n",
        "   \"Sortino\"   : '/content/drive/MyDrive/TSdata/Subset of Funds/Sortino_3Y.parquet',\n",
        "   \"Volatility\" : '/content/drive/MyDrive/TSdata/Subset of Funds/Volatility_3Y.parquet' \n",
        "}"
      ],
      "metadata": {
        "id": "H5d50lworx4R"
      },
      "execution_count": 2,
      "outputs": []
    },
    {
      "cell_type": "code",
      "source": [
        "class BehavioralClustering:\n",
        "\n",
        "    def __init__(self,directories):\n",
        "        self.data = {}\n",
        "        self.directories = directories\n",
        "\n",
        "    def load_data(self, pm_list=None):\n",
        "        if pm_list is None:\n",
        "            pm_list = list(self.directories.keys())\n",
        "\n",
        "        for i in pm_list:\n",
        "            if i in self.directories.keys():\n",
        "                print('loading '+ i)\n",
        "                df = pd.read_parquet(self.directories[i])\n",
        "                df.rename(self.__remove_zeros_from_column_names, axis = 1, inplace = True)\n",
        "                self.data[i] = df\n",
        "                \n",
        "            else:\n",
        "                raise ValueError(\"The Performance Measure\", i, \"directory has not been specified\")\n",
        "\n",
        "    def __remove_zeros_from_column_names(self,string):\n",
        "        editted_str = re.sub(pattern = '(B)0*', repl = r'\\1', string = string)\n",
        "        return editted_str\n",
        "\n",
        "    def gen_train_data(self,  date_ending = \"2011-03-31\",date_beginning = '2008-03-31'):\n",
        "      \"\"\"\n",
        "\n",
        "      prepare training data and label\n",
        "      return label, traning data\n",
        "      \"\"\"\n",
        "      data_concat = None\n",
        "      subset_mask_previous = None\n",
        "      data = list(self.data.values())\n",
        "\n",
        "      if (len(data) == 1):\n",
        "          \n",
        "          data = data[0]\n",
        "          data_subset = data[(data.index >= pd.to_datetime(date_beginning)) & (data.index <= pd.to_datetime(date_ending))]\n",
        "          subset_mask = ~data_subset.isin([np.nan, np.inf, -np.inf]).any()\n",
        "          \n",
        "          data_without_nan = data_subset.T[subset_mask]\n",
        "          return data_subset.T[subset_mask].index , np.array(data_without_nan)[:,:,np.newaxis]\n",
        "\n",
        "      else:\n",
        "        for df in data:\n",
        "            data_subset = df[(df.index >= pd.to_datetime(date_beginning)) & (df.index <= pd.to_datetime(date_ending)) ]\n",
        "            subset_mask = ~data_subset.isin([np.nan, np.inf, -np.inf]).any()\n",
        "            if subset_mask_previous is None:\n",
        "                subset_mask_previous = np.array(subset_mask)\n",
        "            else:\n",
        "                subset_mask = np.array(subset_mask) & subset_mask_previous\n",
        "                subset_mask_previous = subset_mask\n",
        "        \n",
        "        for df in data:\n",
        "            data_subset = df[(df.index >= pd.to_datetime(date_beginning)) &(df.index <= pd.to_datetime(date_ending))]\n",
        "            if data_concat is None:\n",
        "                data_without_nan = np.array(data_subset.T[subset_mask])[:,:,np.newaxis]\n",
        "                data_concat = data_without_nan\n",
        "            else:\n",
        "                data_concat = np.concatenate((data_concat, np.array(data_subset.T[subset_mask])[:,:,np.newaxis]), axis = 2)\n",
        "            \n",
        "        return data[0].T[subset_mask].index, data_concat"
      ],
      "metadata": {
        "id": "8B7T62UUr1DW"
      },
      "execution_count": 3,
      "outputs": []
    },
    {
      "cell_type": "code",
      "source": [
        "bh = BehavioralClustering(directories)\n",
        "bh.load_data([\"Return\",\"Volatility\"])\n",
        "label ,train = bh.gen_train_data('2011-03-31', '2011-01-31' )\n",
        "train = train.mean(axis = 1)\n",
        "train.shape"
      ],
      "metadata": {
        "colab": {
          "base_uri": "https://localhost:8080/"
        },
        "id": "4DGogo48uiVb",
        "outputId": "91577e71-347c-4c79-d77d-244d46568710"
      },
      "execution_count": 46,
      "outputs": [
        {
          "output_type": "stream",
          "name": "stdout",
          "text": [
            "loading Return\n",
            "loading Volatility\n"
          ]
        },
        {
          "output_type": "execute_result",
          "data": {
            "text/plain": [
              "(218, 2)"
            ]
          },
          "metadata": {},
          "execution_count": 46
        }
      ]
    },
    {
      "cell_type": "code",
      "source": [
        "label ,train = bh.gen_train_data('2011-03-31', '2011-01-31' )\n",
        "train = train.mean(axis = 1)\n",
        "model = KMeans(9).fit(train)\n",
        "c = model.cluster_centers_\n",
        "\n",
        "plt.scatter(train[:,0],train[:,1], c = model.predict(train),alpha = 0.8 )\n",
        "plt.scatter(c[:,0],c[:,1],color = 'r', s= 150,marker = '^')\n",
        "plt.title('center for i period')\n",
        "plt.xlabel('Return 3Y')\n",
        "plt.ylabel('Volatility')"
      ],
      "metadata": {
        "colab": {
          "base_uri": "https://localhost:8080/",
          "height": 313
        },
        "id": "nIlkn6fo5Lwr",
        "outputId": "dc90283b-f1ce-417d-8894-5b90e254eab9"
      },
      "execution_count": 6,
      "outputs": [
        {
          "output_type": "execute_result",
          "data": {
            "text/plain": [
              "Text(0, 0.5, 'Volatility')"
            ]
          },
          "metadata": {},
          "execution_count": 6
        },
        {
          "output_type": "display_data",
          "data": {
            "text/plain": [
              "<Figure size 432x288 with 1 Axes>"
            ],
            "image/png": "[encoded data removed]"
          },
          "metadata": {
            "needs_background": "light"
          }
        }
      ]
    },
    {
      "cell_type": "code",
      "source": [
        "for i in range(3):\n",
        "  label ,train = bh.gen_train_data(df.iloc[i]['cluster_date'] , df.iloc[i]['look_back'] )\n",
        "  train = train.mean(axis = 1)\n",
        "  model = KMeans(9).fit(train)\n",
        "  c = model.cluster_centers_\n",
        "  m = ['*','^','o','+','x']\n",
        "  plt.scatter(c[:,0],c[:,1],marker = m[i],label = str(i+1))\n",
        "plt.title('cluster center for 3 period')\n",
        "plt.xlabel('Return 3Y')\n",
        "plt.ylabel('Volatility') \n",
        "plt.legend() "
      ],
      "metadata": {
        "colab": {
          "base_uri": "https://localhost:8080/",
          "height": 313
        },
        "id": "yaW36r42BJmm",
        "outputId": "ab42fee1-2026-414a-f90b-bdd08c4e2536"
      },
      "execution_count": 13,
      "outputs": [
        {
          "output_type": "execute_result",
          "data": {
            "text/plain": [
              "<matplotlib.legend.Legend at 0x7efcc0d1ca50>"
            ]
          },
          "metadata": {},
          "execution_count": 13
        },
        {
          "output_type": "display_data",
          "data": {
            "text/plain": [
              "<Figure size 432x288 with 1 Axes>"
            ],
            "image/png": "[encoded data removed]"
          },
          "metadata": {
            "needs_background": "light"
          }
        }
      ]
    },
    {
      "cell_type": "markdown",
      "source": [
        "Hyperparamenter Tuning"
      ],
      "metadata": {
        "id": "7ljVE9cB8I3l"
      }
    },
    {
      "cell_type": "code",
      "source": [
        "from sklearn.metrics import silhouette_samples, silhouette_score\n",
        "sil = []\n",
        "si2 = []\n",
        "x_labe = []\n",
        "\n",
        "label ,train = bh.gen_train_data('2011-03-31', '2011-01-31' )\n",
        "train = train.mean(axis = 1)\n",
        "\n",
        "for i in range(10,40):   \n",
        "  clusterer = KMeans(n_clusters=i, random_state=10).fit(train)\n",
        "  cluster_labels = clusterer.labels_\n",
        "  silhouette_avg = silhouette_score(train, cluster_labels)\n",
        "  sil.append(silhouette_avg)\n",
        "\n",
        "  clusterer = GaussianMixture(i).fit(train)\n",
        "  cluster_labels = clusterer.predict(train)\n",
        "  silhouette_avg = silhouette_score(train, cluster_labels)\n",
        "  si2.append(silhouette_avg)\n",
        "\n",
        "  x_labe.append(str(i))\n",
        "\n",
        "# plt.plot(x_labe,sil,label = 'Kmeans')\n",
        "# plt.plot(x_labe,si2,label = 'GMM')\n",
        "# plt.legend()"
      ],
      "metadata": {
        "id": "zL78LxSRB_lp"
      },
      "execution_count": 53,
      "outputs": []
    },
    {
      "cell_type": "code",
      "source": [
        "from sklearn.decomposition import PCA\n",
        "label ,train = bh.gen_train_data('2011-03-31', '2011-01-31' )\n",
        "# train = train.mean(axis = 1)\n",
        "\n",
        "sil2 = []\n",
        "si22 = []\n",
        "x_labe = []\n",
        "for i in range(train.shape[-1]):\n",
        "  pca = PCA(n_components=1)\n",
        "  x = pca.fit_transform(train[:,:,i])\n",
        "  if i ==0 :\n",
        "    trains = x\n",
        "  else:\n",
        "    trains = np.hstack((trains,x))\n",
        "\n",
        "train = trains\n",
        "for i in range(10,40):   \n",
        "  clusterer = KMeans(n_clusters=i, random_state=10).fit(train)\n",
        "  cluster_labels = clusterer.labels_\n",
        "  silhouette_avg = silhouette_score(train, cluster_labels)\n",
        "  sil2.append(silhouette_avg)\n",
        "\n",
        "  clusterer = GaussianMixture(i).fit(train)\n",
        "  cluster_labels = clusterer.predict(train)\n",
        "  silhouette_avg = silhouette_score(train, cluster_labels)\n",
        "  si22.append(silhouette_avg)\n",
        "\n",
        "  x_labe.append(str(i))\n",
        "plt.plot(x_labe,sil,label = 'Kmeans')\n",
        "plt.plot(x_labe,si2,label = 'GMM')\n",
        "plt.plot(x_labe,sil2,label = 'Kmeans+PCA')\n",
        "plt.plot(x_labe,si22,label = 'GMM+PCA')\n",
        "plt.title('silhouette score')\n",
        "plt.legend()"
      ],
      "metadata": {
        "colab": {
          "base_uri": "https://localhost:8080/",
          "height": 299
        },
        "id": "uoAoDyRRBmlG",
        "outputId": "63ba951b-d7d9-4313-95c5-4363e89e5676"
      },
      "execution_count": 55,
      "outputs": [
        {
          "output_type": "execute_result",
          "data": {
            "text/plain": [
              "<matplotlib.legend.Legend at 0x7efc398cc210>"
            ]
          },
          "metadata": {},
          "execution_count": 55
        },
        {
          "output_type": "display_data",
          "data": {
            "text/plain": [
              "<Figure size 432x288 with 1 Axes>"
            ],
            "image/png": "[encoded data removed]"
          },
          "metadata": {
            "needs_background": "light"
          }
        }
      ]
    },
    {
      "cell_type": "code",
      "source": [
        ""
      ],
      "metadata": {
        "id": "ZgicctmXHZUS"
      },
      "execution_count": null,
      "outputs": []
    },
    {
      "cell_type": "code",
      "source": [
        "model = KMeans(24).fit(train)\n",
        "c = model.cluster_centers_\n",
        "\n",
        "plt.scatter(train[:,0],train[:,1], c = model.predict(train),alpha = 0.8 )\n",
        "plt.scatter(c[:,0],c[:,1],color = 'r', s= 150,marker = '^')\n",
        "plt.title('center for i period')\n",
        "plt.xlabel('Return 3Y')\n",
        "plt.ylabel('Volatility')"
      ],
      "metadata": {
        "id": "mArZYvaIB_jT",
        "colab": {
          "base_uri": "https://localhost:8080/",
          "height": 313
        },
        "outputId": "54fb1865-c5c2-44c3-a308-bc3145699dbd"
      },
      "execution_count": 19,
      "outputs": [
        {
          "output_type": "execute_result",
          "data": {
            "text/plain": [
              "Text(0, 0.5, 'Volatility')"
            ]
          },
          "metadata": {},
          "execution_count": 19
        },
        {
          "output_type": "display_data",
          "data": {
            "text/plain": [
              "<Figure size 432x288 with 1 Axes>"
            ],
            "image/png": "[encoded data removed]"
          },
          "metadata": {
            "needs_background": "light"
          }
        }
      ]
    },
    {
      "cell_type": "code",
      "source": [
        "def tuning(train):\n",
        "  sil = []\n",
        "  x_labe = []\n",
        "  for i in range(10,30):   \n",
        "      clusterer = KMeans(n_clusters=i, random_state=10).fit(train)\n",
        "      cluster_labels = clusterer.labels_\n",
        "      silhouette_avg = silhouette_score(train, cluster_labels)\n",
        "      sil.append(silhouette_avg)\n",
        "      x_labe.append(i)\n",
        "  return x_labe[sil.index(max(sil))]"
      ],
      "metadata": {
        "id": "PBHXBxB4B_eU"
      },
      "execution_count": 24,
      "outputs": []
    },
    {
      "cell_type": "code",
      "source": [
        "d = []\n",
        "num = []\n",
        "for i in range(10):\n",
        "  label ,train = bh.gen_train_data(df.iloc[i]['cluster_date'] , df.iloc[i]['look_back'] )\n",
        "  train = train.mean(axis = 1)\n",
        "  num.append(tuning(train))\n",
        "  d.append( pd.Timestamp( df.iloc[i]['cluster_date']))\n",
        "plt.title('best cluster number ')\n",
        "plt.plot(d,num)\n",
        "plt.legend() "
      ],
      "metadata": {
        "id": "JD55g6nhB_cJ",
        "colab": {
          "base_uri": "https://localhost:8080/",
          "height": 317
        },
        "outputId": "cb4996eb-90d3-4423-cfd1-9ed7b6eb9ae5"
      },
      "execution_count": 27,
      "outputs": [
        {
          "output_type": "stream",
          "name": "stderr",
          "text": [
            "No handles with labels found to put in legend.\n"
          ]
        },
        {
          "output_type": "execute_result",
          "data": {
            "text/plain": [
              "<matplotlib.legend.Legend at 0x7efc3a81aa50>"
            ]
          },
          "metadata": {},
          "execution_count": 27
        },
        {
          "output_type": "display_data",
          "data": {
            "text/plain": [
              "<Figure size 432x288 with 1 Axes>"
            ],
            "image/png": "[encoded data removed]"
          },
          "metadata": {
            "needs_background": "light"
          }
        }
      ]
    },
    {
      "cell_type": "code",
      "source": [
        ""
      ],
      "metadata": {
        "id": "Ssb8JChUFpF3"
      },
      "execution_count": null,
      "outputs": []
    },
    {
      "cell_type": "code",
      "source": [
        ""
      ],
      "metadata": {
        "id": "jkumxMc2B_Zv"
      },
      "execution_count": null,
      "outputs": []
    },
    {
      "cell_type": "code",
      "source": [
        ""
      ],
      "metadata": {
        "id": "AZiBucGsB_XG"
      },
      "execution_count": null,
      "outputs": []
    },
    {
      "cell_type": "code",
      "source": [
        ""
      ],
      "metadata": {
        "id": "D7EuOxk8BUTe"
      },
      "execution_count": null,
      "outputs": []
    },
    {
      "cell_type": "code",
      "source": [
        ""
      ],
      "metadata": {
        "id": "LuRI_a-RBUQf"
      },
      "execution_count": null,
      "outputs": []
    },
    {
      "cell_type": "code",
      "source": [
        ""
      ],
      "metadata": {
        "id": "bqrapYxSBUK_"
      },
      "execution_count": null,
      "outputs": []
    },
    {
      "cell_type": "code",
      "source": [
        ""
      ],
      "metadata": {
        "id": "RbxZT7yJBUC8"
      },
      "execution_count": null,
      "outputs": []
    },
    {
      "cell_type": "code",
      "source": [
        ""
      ],
      "metadata": {
        "id": "zq__cAfMBT6o"
      },
      "execution_count": null,
      "outputs": []
    },
    {
      "cell_type": "code",
      "source": [
        ""
      ],
      "metadata": {
        "id": "uByHRpKgB_MJ"
      },
      "execution_count": null,
      "outputs": []
    },
    {
      "cell_type": "code",
      "source": [
        "returns = pd.read_parquet('/content/drive/MyDrive/TSdata/Time Series/ClusterGroup_Return_3Y.parquet')\n",
        "def remove_zeros_from_column_names(string):\n",
        "    editted_str = re.sub(pattern = '(B)0*', repl = r'\\1', string = string)\n",
        "    return editted_str\n",
        "returns.rename(remove_zeros_from_column_names, axis = 1, inplace = True)\n",
        "# start = '2010-01-31'\n",
        "# end = '2020-01-31'\n",
        "\n",
        "def gen_month_date(returns,start,end,look_back_date):\n",
        "  dates = returns.index\n",
        "  dates = dates[dates >= pd.Timestamp(start)  ]\n",
        "  dates = dates[dates < pd.Timestamp(end)  ]\n",
        "  dates = pd.DataFrame(dates)\n",
        "  dates['month'] = dates['Date'].apply(lambda x: x.strftime('%Y-%m'))\n",
        "  start = dates.groupby('month').apply(lambda x: x.iloc[-1])\n",
        "  index_start = dates.groupby('month').apply(lambda x: x.iloc[0]).iloc[1:]\n",
        "  index_end = start.iloc[1:]\n",
        "  cluster_date = start.iloc[:-1]\n",
        "  look_back = cluster_date['Date'] - pd.Timedelta(look_back_date,unit ='d')\n",
        "  index_start = list(index_start['Date'])\n",
        "  index_end = index_start.copy()\n",
        "  index_end.append(pd.Timestamp(end))\n",
        "  df = pd.DataFrame(\n",
        "      {\n",
        "        'look_back' : list(look_back.values),\n",
        "        'cluster_date' : list(cluster_date['Date']),\n",
        "        'index_start' : index_start,\n",
        "        'index_end' : index_end[1:]  \n",
        "      }\n",
        "  )\n",
        "  return df"
      ],
      "metadata": {
        "id": "qfCeGfWTQ7sy"
      },
      "execution_count": 8,
      "outputs": []
    },
    {
      "cell_type": "code",
      "source": [
        "df = gen_month_date(returns,'2010-01-31','2010-12-31',30*3)\n"
      ],
      "metadata": {
        "id": "HozrL_SfSXVO"
      },
      "execution_count": 9,
      "outputs": []
    },
    {
      "cell_type": "code",
      "source": [
        "import sklearn.metrics as metrics\n",
        "! pip install tslearn\n",
        "from tslearn.clustering import TimeSeriesKMeans\n",
        "import sklearn.cluster as sklearn_cluster"
      ],
      "metadata": {
        "colab": {
          "base_uri": "https://localhost:8080/"
        },
        "id": "WCnXvg-_u2hS",
        "outputId": "f853850d-8ca4-4f17-f424-69c1ae1c0081"
      },
      "execution_count": null,
      "outputs": [
        {
          "output_type": "stream",
          "name": "stdout",
          "text": [
            "Collecting tslearn\n",
            "  Downloading tslearn-0.5.2-cp37-cp37m-manylinux_2_5_x86_64.manylinux1_x86_64.manylinux_2_12_x86_64.manylinux2010_x86_64.whl (793 kB)\n",
            "\u001b[?25l\r\u001b[K     |▍                               | 10 kB 19.6 MB/s eta 0:00:01\r\u001b[K     |▉                               | 20 kB 26.8 MB/s eta 0:00:01\r\u001b[K     |█▎                              | 30 kB 31.8 MB/s eta 0:00:01\r\u001b[K     |█▋                              | 40 kB 15.8 MB/s eta 0:00:01\r\u001b[K     |██                              | 51 kB 13.9 MB/s eta 0:00:01\r\u001b[K     |██▌                             | 61 kB 16.1 MB/s eta 0:00:01\r\u001b[K     |███                             | 71 kB 16.3 MB/s eta 0:00:01\r\u001b[K     |███▎                            | 81 kB 15.3 MB/s eta 0:00:01\r\u001b[K     |███▊                            | 92 kB 16.7 MB/s eta 0:00:01\r\u001b[K     |████▏                           | 102 kB 17.2 MB/s eta 0:00:01\r\u001b[K     |████▌                           | 112 kB 17.2 MB/s eta 0:00:01\r\u001b[K     |█████                           | 122 kB 17.2 MB/s eta 0:00:01\r\u001b[K     |█████▍                          | 133 kB 17.2 MB/s eta 0:00:01\r\u001b[K     |█████▉                          | 143 kB 17.2 MB/s eta 0:00:01\r\u001b[K     |██████▏                         | 153 kB 17.2 MB/s eta 0:00:01\r\u001b[K     |██████▋                         | 163 kB 17.2 MB/s eta 0:00:01\r\u001b[K     |███████                         | 174 kB 17.2 MB/s eta 0:00:01\r\u001b[K     |███████▍                        | 184 kB 17.2 MB/s eta 0:00:01\r\u001b[K     |███████▉                        | 194 kB 17.2 MB/s eta 0:00:01\r\u001b[K     |████████▎                       | 204 kB 17.2 MB/s eta 0:00:01\r\u001b[K     |████████▊                       | 215 kB 17.2 MB/s eta 0:00:01\r\u001b[K     |█████████                       | 225 kB 17.2 MB/s eta 0:00:01\r\u001b[K     |█████████▌                      | 235 kB 17.2 MB/s eta 0:00:01\r\u001b[K     |██████████                      | 245 kB 17.2 MB/s eta 0:00:01\r\u001b[K     |██████████▎                     | 256 kB 17.2 MB/s eta 0:00:01\r\u001b[K     |██████████▊                     | 266 kB 17.2 MB/s eta 0:00:01\r\u001b[K     |███████████▏                    | 276 kB 17.2 MB/s eta 0:00:01\r\u001b[K     |███████████▋                    | 286 kB 17.2 MB/s eta 0:00:01\r\u001b[K     |████████████                    | 296 kB 17.2 MB/s eta 0:00:01\r\u001b[K     |████████████▍                   | 307 kB 17.2 MB/s eta 0:00:01\r\u001b[K     |████████████▉                   | 317 kB 17.2 MB/s eta 0:00:01\r\u001b[K     |█████████████▏                  | 327 kB 17.2 MB/s eta 0:00:01\r\u001b[K     |█████████████▋                  | 337 kB 17.2 MB/s eta 0:00:01\r\u001b[K     |██████████████                  | 348 kB 17.2 MB/s eta 0:00:01\r\u001b[K     |██████████████▌                 | 358 kB 17.2 MB/s eta 0:00:01\r\u001b[K     |██████████████▉                 | 368 kB 17.2 MB/s eta 0:00:01\r\u001b[K     |███████████████▎                | 378 kB 17.2 MB/s eta 0:00:01\r\u001b[K     |███████████████▊                | 389 kB 17.2 MB/s eta 0:00:01\r\u001b[K     |████████████████▏               | 399 kB 17.2 MB/s eta 0:00:01\r\u001b[K     |████████████████▌               | 409 kB 17.2 MB/s eta 0:00:01\r\u001b[K     |█████████████████               | 419 kB 17.2 MB/s eta 0:00:01\r\u001b[K     |█████████████████▍              | 430 kB 17.2 MB/s eta 0:00:01\r\u001b[K     |█████████████████▊              | 440 kB 17.2 MB/s eta 0:00:01\r\u001b[K     |██████████████████▏             | 450 kB 17.2 MB/s eta 0:00:01\r\u001b[K     |██████████████████▋             | 460 kB 17.2 MB/s eta 0:00:01\r\u001b[K     |███████████████████             | 471 kB 17.2 MB/s eta 0:00:01\r\u001b[K     |███████████████████▍            | 481 kB 17.2 MB/s eta 0:00:01\r\u001b[K     |███████████████████▉            | 491 kB 17.2 MB/s eta 0:00:01\r\u001b[K     |████████████████████▎           | 501 kB 17.2 MB/s eta 0:00:01\r\u001b[K     |████████████████████▋           | 512 kB 17.2 MB/s eta 0:00:01\r\u001b[K     |█████████████████████           | 522 kB 17.2 MB/s eta 0:00:01\r\u001b[K     |█████████████████████▌          | 532 kB 17.2 MB/s eta 0:00:01\r\u001b[K     |██████████████████████          | 542 kB 17.2 MB/s eta 0:00:01\r\u001b[K     |██████████████████████▎         | 552 kB 17.2 MB/s eta 0:00:01\r\u001b[K     |██████████████████████▊         | 563 kB 17.2 MB/s eta 0:00:01\r\u001b[K     |███████████████████████▏        | 573 kB 17.2 MB/s eta 0:00:01\r\u001b[K     |███████████████████████▌        | 583 kB 17.2 MB/s eta 0:00:01\r\u001b[K     |████████████████████████        | 593 kB 17.2 MB/s eta 0:00:01\r\u001b[K     |████████████████████████▍       | 604 kB 17.2 MB/s eta 0:00:01\r\u001b[K     |████████████████████████▉       | 614 kB 17.2 MB/s eta 0:00:01\r\u001b[K     |█████████████████████████▏      | 624 kB 17.2 MB/s eta 0:00:01\r\u001b[K     |█████████████████████████▋      | 634 kB 17.2 MB/s eta 0:00:01\r\u001b[K     |██████████████████████████      | 645 kB 17.2 MB/s eta 0:00:01\r\u001b[K     |██████████████████████████▍     | 655 kB 17.2 MB/s eta 0:00:01\r\u001b[K     |██████████████████████████▉     | 665 kB 17.2 MB/s eta 0:00:01\r\u001b[K     |███████████████████████████▎    | 675 kB 17.2 MB/s eta 0:00:01\r\u001b[K     |███████████████████████████▊    | 686 kB 17.2 MB/s eta 0:00:01\r\u001b[K     |████████████████████████████    | 696 kB 17.2 MB/s eta 0:00:01\r\u001b[K     |████████████████████████████▌   | 706 kB 17.2 MB/s eta 0:00:01\r\u001b[K     |█████████████████████████████   | 716 kB 17.2 MB/s eta 0:00:01\r\u001b[K     |█████████████████████████████▍  | 727 kB 17.2 MB/s eta 0:00:01\r\u001b[K     |█████████████████████████████▊  | 737 kB 17.2 MB/s eta 0:00:01\r\u001b[K     |██████████████████████████████▏ | 747 kB 17.2 MB/s eta 0:00:01\r\u001b[K     |██████████████████████████████▋ | 757 kB 17.2 MB/s eta 0:00:01\r\u001b[K     |███████████████████████████████ | 768 kB 17.2 MB/s eta 0:00:01\r\u001b[K     |███████████████████████████████▍| 778 kB 17.2 MB/s eta 0:00:01\r\u001b[K     |███████████████████████████████▉| 788 kB 17.2 MB/s eta 0:00:01\r\u001b[K     |████████████████████████████████| 793 kB 17.2 MB/s \n",
            "\u001b[?25hRequirement already satisfied: Cython in /usr/local/lib/python3.7/dist-packages (from tslearn) (0.29.28)\n",
            "Requirement already satisfied: numba in /usr/local/lib/python3.7/dist-packages (from tslearn) (0.51.2)\n",
            "Requirement already satisfied: scikit-learn in /usr/local/lib/python3.7/dist-packages (from tslearn) (1.0.2)\n",
            "Requirement already satisfied: numpy in /usr/local/lib/python3.7/dist-packages (from tslearn) (1.21.5)\n",
            "Requirement already satisfied: joblib in /usr/local/lib/python3.7/dist-packages (from tslearn) (1.1.0)\n",
            "Requirement already satisfied: scipy in /usr/local/lib/python3.7/dist-packages (from tslearn) (1.4.1)\n",
            "Requirement already satisfied: setuptools in /usr/local/lib/python3.7/dist-packages (from numba->tslearn) (57.4.0)\n",
            "Requirement already satisfied: llvmlite<0.35,>=0.34.0.dev0 in /usr/local/lib/python3.7/dist-packages (from numba->tslearn) (0.34.0)\n",
            "Requirement already satisfied: threadpoolctl>=2.0.0 in /usr/local/lib/python3.7/dist-packages (from scikit-learn->tslearn) (3.1.0)\n",
            "Installing collected packages: tslearn\n",
            "Successfully installed tslearn-0.5.2\n"
          ]
        }
      ]
    },
    {
      "cell_type": "code",
      "source": [
        "def k_means_clustering(train,label,cluster):\n",
        "\n",
        "    model = TimeSeriesKMeans(cluster, verbose = True, random_state = 1)\n",
        "    cluster_k_means = model.fit_predict(train)\n",
        "    k_means_model = pd.DataFrame({\"Funds\": label, \"Cluster\": cluster_k_means})\n",
        "\n",
        "    eval_data = train.reshape(train.shape[0], train.shape[1]*train.shape[2])\n",
        "\n",
        "    # silh_score = metrics.silhouette_score(eval_data, k_means_model.Cluster)\n",
        "    # ch_score = metrics.calinski_harabasz_score(eval_data, k_means_model.Cluster)\n",
        "    # db_score = metrics.davies_bouldin_score(eval_data, k_means_model.Cluster)\n",
        "    # s_dbw_score = S_Dbw(np.array(eval_data), k_means_model.Cluster) (silh_score, ch_score, db_score),\n",
        "\n",
        "    return  k_means_model"
      ],
      "metadata": {
        "id": "oI5KCtDFtxx5"
      },
      "execution_count": null,
      "outputs": []
    },
    {
      "cell_type": "code",
      "source": [
        "price = pd.read_parquet('/content/drive/MyDrive/TSdata/Subset of Funds/DailyPrice.parquet')\n",
        "price.rename(remove_zeros_from_column_names, axis = 1, inplace = True)\n",
        "size = pd.read_parquet('/content/drive/MyDrive/TSdata/Subset of Funds/FundSize.parquet')\n",
        "size.rename(remove_zeros_from_column_names, axis = 1, inplace = True)\n"
      ],
      "metadata": {
        "id": "OZPBGTtEW_3-"
      },
      "execution_count": null,
      "outputs": []
    },
    {
      "cell_type": "code",
      "source": [
        "def cluter_avg(dates,price,clu):\n",
        "  price_month = price.loc[dates['index_start']:dates['index_end']]\n",
        "  price_month = price_month/price_month.iloc[0]\n",
        "  p = price_month.T\n",
        "  p.index.name = 'Funds'\n",
        "  p.columns = range(1,p.shape[1]+1)\n",
        "  p = p.reset_index()\n",
        "  clu1 = pd.merge(clu,p ,on ='Funds',how = 'left')\n",
        "  del clu1['Funds']\n",
        "  clu1 = clu1.groupby('Cluster').mean()\n",
        "  clu1 = clu1.reset_index()\n",
        "  clu1['Date'] = dates['index_start']\n",
        "  clu1 = clu1.set_index(['Date','Cluster'])\n",
        "  return clu1"
      ],
      "metadata": {
        "id": "ODp3qQ9dXsuv"
      },
      "execution_count": null,
      "outputs": []
    },
    {
      "cell_type": "code",
      "source": [
        "def cluter_weight(dates,size,price,clu):\n",
        "  s = price.loc[dates['index_start']].to_frame('size')\n",
        "  clu2 = pd.merge(clu,s ,on ='Funds',how = 'left')\n",
        "  price_month = price.loc[dates['index_start']:dates['index_end']]\n",
        "  price_month = price_month/price_month.iloc[0]\n",
        "  p = price_month.T\n",
        "  p.index.name = 'Funds'\n",
        "  p.columns = range(1,p.shape[1]+1)\n",
        "  p = p.reset_index()\n",
        "  clu1 = pd.merge(clu,p ,on ='Funds',how = 'left')\n",
        "  del clu1['Funds']\n",
        "  clu1 = clu1.set_index('Cluster')\n",
        "  clu1 = (clu1.T*np.array(clu2['size'])).T.reset_index()\n",
        "\n",
        "  clu1 = clu1.groupby('Cluster').mean()\n",
        "  cz = clu2.groupby('Cluster')['size'].mean()\n",
        "  clu1 = (clu1.T / np.array(cz)).T\n",
        "  clu1 = clu1.reset_index()\n",
        "  clu1['Date'] = dates['index_start']\n",
        "  clu1 = clu1.set_index(['Date','Cluster'])\n",
        "  return clu1"
      ],
      "metadata": {
        "id": "uv5rfNl6g7yJ"
      },
      "execution_count": null,
      "outputs": []
    },
    {
      "cell_type": "code",
      "source": [
        "cluter = pd.DataFrame()\n",
        "avg_index = pd.DataFrame()\n",
        "weight_index = pd.DataFrame()\n",
        "for i in range(10):\n",
        "  # print(dates['cluster_date'])\n",
        "  dates = df.iloc[i]\n",
        "  label ,train = bh.gen_train_data(dates['cluster_date'] , dates['look_back'] )\n",
        "\n",
        "  clu = k_means_clustering(train,label,20)\n",
        "  avg = cluter_avg(dates,price,clu)\n",
        "  wei = cluter_weight(dates,size,price,clu)\n",
        "\n",
        "  clu['Cluster_date'] = dates['cluster_date']\n",
        "  cluter = pd.concat([cluter,clu])\n",
        "  avg_index = pd.concat([avg_index,avg])\n",
        "  weight_index = pd.concat([weight_index,wei])"
      ],
      "metadata": {
        "colab": {
          "base_uri": "https://localhost:8080/"
        },
        "id": "jbn1NVqhPU-N",
        "outputId": "48493441-275f-4c07-b262-d4fa52080969"
      },
      "execution_count": null,
      "outputs": [
        {
          "output_type": "stream",
          "name": "stdout",
          "text": [
            "0.314 --> 0.242 --> 0.233 --> 0.227 --> 0.224 --> 0.223 --> 0.223 --> 0.223 --> 0.223 --> \n",
            "0.314 --> 0.237 --> 0.228 --> 0.224 --> 0.223 --> 0.223 --> 0.223 --> \n",
            "0.287 --> 0.225 --> 0.216 --> 0.213 --> 0.213 --> 0.212 --> 0.211 --> 0.211 --> 0.211 --> \n",
            "0.304 --> 0.215 --> 0.206 --> 0.203 --> 0.203 --> 0.203 --> 0.203 --> \n",
            "0.279 --> 0.204 --> 0.196 --> 0.192 --> 0.190 --> 0.189 --> 0.189 --> 0.189 --> \n",
            "0.256 --> 0.193 --> 0.190 --> 0.190 --> 0.189 --> 0.189 --> 0.189 --> \n",
            "0.243 --> 0.179 --> 0.174 --> 0.172 --> 0.172 --> 0.172 --> 0.171 --> 0.171 --> 0.171 --> 0.171 --> 0.171 --> \n",
            "0.256 --> 0.190 --> 0.179 --> 0.175 --> 0.173 --> 0.171 --> 0.171 --> 0.171 --> 0.171 --> 0.171 --> \n",
            "0.248 --> 0.181 --> 0.176 --> 0.174 --> 0.174 --> 0.173 --> 0.173 --> \n",
            "0.240 --> 0.178 --> 0.174 --> 0.173 --> 0.173 --> 0.173 --> \n"
          ]
        }
      ]
    },
    {
      "cell_type": "code",
      "source": [
        "import matplotlib.pyplot as plt\n",
        "weight_index.loc[pd.Timestamp('2010-02-01'),0].T.plot(label = 'weight')\n",
        "avg_index.loc[pd.Timestamp('2010-02-01'),0].T.plot(label = 'avg')\n",
        "plt.legend()"
      ],
      "metadata": {
        "id": "Zw4TuPgVRNoH",
        "colab": {
          "base_uri": "https://localhost:8080/",
          "height": 283
        },
        "outputId": "e4e6e7f0-dc6e-45c5-afde-f72497a1671d"
      },
      "execution_count": null,
      "outputs": [
        {
          "output_type": "execute_result",
          "data": {
            "text/plain": [
              "<matplotlib.legend.Legend at 0x7ff780840ad0>"
            ]
          },
          "metadata": {},
          "execution_count": 98
        },
        {
          "output_type": "display_data",
          "data": {
            "text/plain": [
              "<Figure size 432x288 with 1 Axes>"
            ],
            "image/png": "[encoded data removed]"
          },
          "metadata": {
            "needs_background": "light"
          }
        }
      ]
    },
    {
      "cell_type": "code",
      "source": [
        "avg_index"
      ],
      "metadata": {
        "colab": {
          "base_uri": "https://localhost:8080/",
          "height": 519
        },
        "id": "1KNTcHqckBDr",
        "outputId": "7cabb55e-e7fd-4d7d-a3d4-b745b5bcf15e"
      },
      "execution_count": null,
      "outputs": [
        {
          "output_type": "execute_result",
          "data": {
            "text/plain": [
              "                     1         2         3         4         5         6   \\\n",
              "Date       Cluster                                                          \n",
              "2010-02-01 0        1.0  1.008465  1.003410  0.972311  0.975034  0.975034   \n",
              "           1        1.0  1.008798  1.002093  0.970461  0.973602  0.973602   \n",
              "           2        1.0  1.011076  1.007458  0.972417  0.974407  0.974407   \n",
              "           3        1.0  1.010374  1.004663  0.974302  0.977075  0.977075   \n",
              "           4        1.0  1.009588  1.004633  0.970485  0.974313  0.974313   \n",
              "...                 ...       ...       ...       ...       ...       ...   \n",
              "2010-11-01 15       1.0  1.015459  1.017751  1.038563  1.042252  1.042252   \n",
              "           16       1.0  1.015617  1.019166  1.044176  1.048889  1.048889   \n",
              "           17       1.0  1.015530  1.017984  1.039474  1.043994  1.043994   \n",
              "           18       1.0  1.015375  1.015500  1.035987  1.038962  1.038962   \n",
              "           19       1.0  1.014922  1.018008  1.038348  1.042696  1.042696   \n",
              "\n",
              "                          7         8         9         10  ...        23  \\\n",
              "Date       Cluster                                          ...             \n",
              "2010-02-01 0        0.975034  0.966558  0.978409  0.979922  ...  1.021459   \n",
              "           1        0.973602  0.963786  0.976733  0.978356  ...  1.021503   \n",
              "           2        0.974407  0.967658  0.981589  0.983270  ...  1.016886   \n",
              "           3        0.977075  0.968533  0.982102  0.983043  ...  1.020099   \n",
              "           4        0.974313  0.965711  0.979949  0.981393  ...  1.022897   \n",
              "...                      ...       ...       ...       ...  ...       ...   \n",
              "2010-11-01 15       1.042252  1.041492  1.030860  1.041433  ...  1.025134   \n",
              "           16       1.048889  1.050015  1.038629  1.047619  ...  1.027810   \n",
              "           17       1.043994  1.043890  1.034930  1.045741  ...  1.027708   \n",
              "           18       1.038962  1.038754  1.031049  1.039800  ...  1.021028   \n",
              "           19       1.042696  1.043867  1.033277  1.043883  ...  1.031963   \n",
              "\n",
              "                          24        25        26        27        28  \\\n",
              "Date       Cluster                                                     \n",
              "2010-02-01 0        1.029466  1.029182  1.028958  1.028958  1.028958   \n",
              "           1        1.030594  1.030680  1.028116  1.028116  1.028116   \n",
              "           2        1.024644  1.025216  1.026791  1.026791  1.026791   \n",
              "           3        1.027003  1.028863  1.026905  1.026905  1.026905   \n",
              "           4        1.031442  1.031647  1.029760  1.029760  1.029760   \n",
              "...                      ...       ...       ...       ...       ...   \n",
              "2010-11-01 15       1.046847  1.046847  1.041759  1.041759  1.041759   \n",
              "           16       1.048141  1.048141  1.041442  1.041442  1.041442   \n",
              "           17       1.049825  1.049825  1.044648  1.044648  1.044648   \n",
              "           18       1.039324  1.039324  1.034589  1.034589  1.034589   \n",
              "           19       1.054368  1.054368  1.049774  1.049774  1.049774   \n",
              "\n",
              "                          29        30        31  32  \n",
              "Date       Cluster                                    \n",
              "2010-02-01 0        1.050187       NaN       NaN NaN  \n",
              "           1        1.047979       NaN       NaN NaN  \n",
              "           2        1.049653       NaN       NaN NaN  \n",
              "           3        1.045409       NaN       NaN NaN  \n",
              "           4        1.051544       NaN       NaN NaN  \n",
              "...                      ...       ...       ...  ..  \n",
              "2010-11-01 15       1.039511  1.035011  1.057039 NaN  \n",
              "           16       1.041076  1.035898  1.058532 NaN  \n",
              "           17       1.042387  1.036309  1.060462 NaN  \n",
              "           18       1.033454  1.028345  1.048497 NaN  \n",
              "           19       1.047023  1.042995  1.066351 NaN  \n",
              "\n",
              "[200 rows x 32 columns]"
            ],
            "text/html": [
              "\n",
              "  <div id=\"df-bc47098e-4dd5-497d-b738-5cfd36305842\">\n",
              "    <div class=\"colab-df-container\">\n",
              "      <div>\n",
              "<style scoped>\n",
              "    .dataframe tbody tr th:only-of-type {\n",
              "        vertical-align: middle;\n",
              "    }\n",
              "\n",
              "    .dataframe tbody tr th {\n",
              "        vertical-align: top;\n",
              "    }\n",
              "\n",
              "    .dataframe thead th {\n",
              "        text-align: right;\n",
              "    }\n",
              "</style>\n",
              "<table border=\"1\" class=\"dataframe\">\n",
              "  <thead>\n",
              "    <tr style=\"text-align: right;\">\n",
              "      <th></th>\n",
              "      <th></th>\n",
              "      <th>1</th>\n",
              "      <th>2</th>\n",
              "      <th>3</th>\n",
              "      <th>4</th>\n",
              "      <th>5</th>\n",
              "      <th>6</th>\n",
              "      <th>7</th>\n",
              "      <th>8</th>\n",
              "      <th>9</th>\n",
              "      <th>10</th>\n",
              "      <th>...</th>\n",
              "      <th>23</th>\n",
              "      <th>24</th>\n",
              "      <th>25</th>\n",
              "      <th>26</th>\n",
              "      <th>27</th>\n",
              "      <th>28</th>\n",
              "      <th>29</th>\n",
              "      <th>30</th>\n",
              "      <th>31</th>\n",
              "      <th>32</th>\n",
              "    </tr>\n",
              "    <tr>\n",
              "      <th>Date</th>\n",
              "      <th>Cluster</th>\n",
              "      <th></th>\n",
              "      <th></th>\n",
              "      <th></th>\n",
              "      <th></th>\n",
              "      <th></th>\n",
              "      <th></th>\n",
              "      <th></th>\n",
              "      <th></th>\n",
              "      <th></th>\n",
              "      <th></th>\n",
              "      <th></th>\n",
              "      <th></th>\n",
              "      <th></th>\n",
              "      <th></th>\n",
              "      <th></th>\n",
              "      <th></th>\n",
              "      <th></th>\n",
              "      <th></th>\n",
              "      <th></th>\n",
              "      <th></th>\n",
              "      <th></th>\n",
              "    </tr>\n",
              "  </thead>\n",
              "  <tbody>\n",
              "    <tr>\n",
              "      <th rowspan=\"5\" valign=\"top\">2010-02-01</th>\n",
              "      <th>0</th>\n",
              "      <td>1.0</td>\n",
              "      <td>1.008465</td>\n",
              "      <td>1.003410</td>\n",
              "      <td>0.972311</td>\n",
              "      <td>0.975034</td>\n",
              "      <td>0.975034</td>\n",
              "      <td>0.975034</td>\n",
              "      <td>0.966558</td>\n",
              "      <td>0.978409</td>\n",
              "      <td>0.979922</td>\n",
              "      <td>...</td>\n",
              "      <td>1.021459</td>\n",
              "      <td>1.029466</td>\n",
              "      <td>1.029182</td>\n",
              "      <td>1.028958</td>\n",
              "      <td>1.028958</td>\n",
              "      <td>1.028958</td>\n",
              "      <td>1.050187</td>\n",
              "      <td>NaN</td>\n",
              "      <td>NaN</td>\n",
              "      <td>NaN</td>\n",
              "    </tr>\n",
              "    <tr>\n",
              "      <th>1</th>\n",
              "      <td>1.0</td>\n",
              "      <td>1.008798</td>\n",
              "      <td>1.002093</td>\n",
              "      <td>0.970461</td>\n",
              "      <td>0.973602</td>\n",
              "      <td>0.973602</td>\n",
              "      <td>0.973602</td>\n",
              "      <td>0.963786</td>\n",
              "      <td>0.976733</td>\n",
              "      <td>0.978356</td>\n",
              "      <td>...</td>\n",
              "      <td>1.021503</td>\n",
              "      <td>1.030594</td>\n",
              "      <td>1.030680</td>\n",
              "      <td>1.028116</td>\n",
              "      <td>1.028116</td>\n",
              "      <td>1.028116</td>\n",
              "      <td>1.047979</td>\n",
              "      <td>NaN</td>\n",
              "      <td>NaN</td>\n",
              "      <td>NaN</td>\n",
              "    </tr>\n",
              "    <tr>\n",
              "      <th>2</th>\n",
              "      <td>1.0</td>\n",
              "      <td>1.011076</td>\n",
              "      <td>1.007458</td>\n",
              "      <td>0.972417</td>\n",
              "      <td>0.974407</td>\n",
              "      <td>0.974407</td>\n",
              "      <td>0.974407</td>\n",
              "      <td>0.967658</td>\n",
              "      <td>0.981589</td>\n",
              "      <td>0.983270</td>\n",
              "      <td>...</td>\n",
              "      <td>1.016886</td>\n",
              "      <td>1.024644</td>\n",
              "      <td>1.025216</td>\n",
              "      <td>1.026791</td>\n",
              "      <td>1.026791</td>\n",
              "      <td>1.026791</td>\n",
              "      <td>1.049653</td>\n",
              "      <td>NaN</td>\n",
              "      <td>NaN</td>\n",
              "      <td>NaN</td>\n",
              "    </tr>\n",
              "    <tr>\n",
              "      <th>3</th>\n",
              "      <td>1.0</td>\n",
              "      <td>1.010374</td>\n",
              "      <td>1.004663</td>\n",
              "      <td>0.974302</td>\n",
              "      <td>0.977075</td>\n",
              "      <td>0.977075</td>\n",
              "      <td>0.977075</td>\n",
              "      <td>0.968533</td>\n",
              "      <td>0.982102</td>\n",
              "      <td>0.983043</td>\n",
              "      <td>...</td>\n",
              "      <td>1.020099</td>\n",
              "      <td>1.027003</td>\n",
              "      <td>1.028863</td>\n",
              "      <td>1.026905</td>\n",
              "      <td>1.026905</td>\n",
              "      <td>1.026905</td>\n",
              "      <td>1.045409</td>\n",
              "      <td>NaN</td>\n",
              "      <td>NaN</td>\n",
              "      <td>NaN</td>\n",
              "    </tr>\n",
              "    <tr>\n",
              "      <th>4</th>\n",
              "      <td>1.0</td>\n",
              "      <td>1.009588</td>\n",
              "      <td>1.004633</td>\n",
              "      <td>0.970485</td>\n",
              "      <td>0.974313</td>\n",
              "      <td>0.974313</td>\n",
              "      <td>0.974313</td>\n",
              "      <td>0.965711</td>\n",
              "      <td>0.979949</td>\n",
              "      <td>0.981393</td>\n",
              "      <td>...</td>\n",
              "      <td>1.022897</td>\n",
              "      <td>1.031442</td>\n",
              "      <td>1.031647</td>\n",
              "      <td>1.029760</td>\n",
              "      <td>1.029760</td>\n",
              "      <td>1.029760</td>\n",
              "      <td>1.051544</td>\n",
              "      <td>NaN</td>\n",
              "      <td>NaN</td>\n",
              "      <td>NaN</td>\n",
              "    </tr>\n",
              "    <tr>\n",
              "      <th>...</th>\n",
              "      <th>...</th>\n",
              "      <td>...</td>\n",
              "      <td>...</td>\n",
              "      <td>...</td>\n",
              "      <td>...</td>\n",
              "      <td>...</td>\n",
              "      <td>...</td>\n",
              "      <td>...</td>\n",
              "      <td>...</td>\n",
              "      <td>...</td>\n",
              "      <td>...</td>\n",
              "      <td>...</td>\n",
              "      <td>...</td>\n",
              "      <td>...</td>\n",
              "      <td>...</td>\n",
              "      <td>...</td>\n",
              "      <td>...</td>\n",
              "      <td>...</td>\n",
              "      <td>...</td>\n",
              "      <td>...</td>\n",
              "      <td>...</td>\n",
              "      <td>...</td>\n",
              "    </tr>\n",
              "    <tr>\n",
              "      <th rowspan=\"5\" valign=\"top\">2010-11-01</th>\n",
              "      <th>15</th>\n",
              "      <td>1.0</td>\n",
              "      <td>1.015459</td>\n",
              "      <td>1.017751</td>\n",
              "      <td>1.038563</td>\n",
              "      <td>1.042252</td>\n",
              "      <td>1.042252</td>\n",
              "      <td>1.042252</td>\n",
              "      <td>1.041492</td>\n",
              "      <td>1.030860</td>\n",
              "      <td>1.041433</td>\n",
              "      <td>...</td>\n",
              "      <td>1.025134</td>\n",
              "      <td>1.046847</td>\n",
              "      <td>1.046847</td>\n",
              "      <td>1.041759</td>\n",
              "      <td>1.041759</td>\n",
              "      <td>1.041759</td>\n",
              "      <td>1.039511</td>\n",
              "      <td>1.035011</td>\n",
              "      <td>1.057039</td>\n",
              "      <td>NaN</td>\n",
              "    </tr>\n",
              "    <tr>\n",
              "      <th>16</th>\n",
              "      <td>1.0</td>\n",
              "      <td>1.015617</td>\n",
              "      <td>1.019166</td>\n",
              "      <td>1.044176</td>\n",
              "      <td>1.048889</td>\n",
              "      <td>1.048889</td>\n",
              "      <td>1.048889</td>\n",
              "      <td>1.050015</td>\n",
              "      <td>1.038629</td>\n",
              "      <td>1.047619</td>\n",
              "      <td>...</td>\n",
              "      <td>1.027810</td>\n",
              "      <td>1.048141</td>\n",
              "      <td>1.048141</td>\n",
              "      <td>1.041442</td>\n",
              "      <td>1.041442</td>\n",
              "      <td>1.041442</td>\n",
              "      <td>1.041076</td>\n",
              "      <td>1.035898</td>\n",
              "      <td>1.058532</td>\n",
              "      <td>NaN</td>\n",
              "    </tr>\n",
              "    <tr>\n",
              "      <th>17</th>\n",
              "      <td>1.0</td>\n",
              "      <td>1.015530</td>\n",
              "      <td>1.017984</td>\n",
              "      <td>1.039474</td>\n",
              "      <td>1.043994</td>\n",
              "      <td>1.043994</td>\n",
              "      <td>1.043994</td>\n",
              "      <td>1.043890</td>\n",
              "      <td>1.034930</td>\n",
              "      <td>1.045741</td>\n",
              "      <td>...</td>\n",
              "      <td>1.027708</td>\n",
              "      <td>1.049825</td>\n",
              "      <td>1.049825</td>\n",
              "      <td>1.044648</td>\n",
              "      <td>1.044648</td>\n",
              "      <td>1.044648</td>\n",
              "      <td>1.042387</td>\n",
              "      <td>1.036309</td>\n",
              "      <td>1.060462</td>\n",
              "      <td>NaN</td>\n",
              "    </tr>\n",
              "    <tr>\n",
              "      <th>18</th>\n",
              "      <td>1.0</td>\n",
              "      <td>1.015375</td>\n",
              "      <td>1.015500</td>\n",
              "      <td>1.035987</td>\n",
              "      <td>1.038962</td>\n",
              "      <td>1.038962</td>\n",
              "      <td>1.038962</td>\n",
              "      <td>1.038754</td>\n",
              "      <td>1.031049</td>\n",
              "      <td>1.039800</td>\n",
              "      <td>...</td>\n",
              "      <td>1.021028</td>\n",
              "      <td>1.039324</td>\n",
              "      <td>1.039324</td>\n",
              "      <td>1.034589</td>\n",
              "      <td>1.034589</td>\n",
              "      <td>1.034589</td>\n",
              "      <td>1.033454</td>\n",
              "      <td>1.028345</td>\n",
              "      <td>1.048497</td>\n",
              "      <td>NaN</td>\n",
              "    </tr>\n",
              "    <tr>\n",
              "      <th>19</th>\n",
              "      <td>1.0</td>\n",
              "      <td>1.014922</td>\n",
              "      <td>1.018008</td>\n",
              "      <td>1.038348</td>\n",
              "      <td>1.042696</td>\n",
              "      <td>1.042696</td>\n",
              "      <td>1.042696</td>\n",
              "      <td>1.043867</td>\n",
              "      <td>1.033277</td>\n",
              "      <td>1.043883</td>\n",
              "      <td>...</td>\n",
              "      <td>1.031963</td>\n",
              "      <td>1.054368</td>\n",
              "      <td>1.054368</td>\n",
              "      <td>1.049774</td>\n",
              "      <td>1.049774</td>\n",
              "      <td>1.049774</td>\n",
              "      <td>1.047023</td>\n",
              "      <td>1.042995</td>\n",
              "      <td>1.066351</td>\n",
              "      <td>NaN</td>\n",
              "    </tr>\n",
              "  </tbody>\n",
              "</table>\n",
              "<p>200 rows × 32 columns</p>\n",
              "</div>\n",
              "      <button class=\"colab-df-convert\" onclick=\"convertToInteractive('df-bc47098e-4dd5-497d-b738-5cfd36305842')\"\n",
              "              title=\"Convert this dataframe to an interactive table.\"\n",
              "              style=\"display:none;\">\n",
              "        \n",
              "  <svg xmlns=\"http://www.w3.org/2000/svg\" height=\"24px\"viewBox=\"0 0 24 24\"\n",
              "       width=\"24px\">\n",
              "    <path d=\"M0 0h24v24H0V0z\" fill=\"none\"/>\n",
              "    <path d=\"M18.56 5.44l.94 2.06.94-2.06 2.06-.94-2.06-.94-.94-2.06-.94 2.06-2.06.94zm-11 1L8.5 8.5l.94-2.06 2.06-.94-2.06-.94L8.5 2.5l-.94 2.06-2.06.94zm10 10l.94 2.06.94-2.06 2.06-.94-2.06-.94-.94-2.06-.94 2.06-2.06.94z\"/><path d=\"M17.41 7.96l-1.37-1.37c-.4-.4-.92-.59-1.43-.59-.52 0-1.04.2-1.43.59L10.3 9.45l-7.72 7.72c-.78.78-.78 2.05 0 2.83L4 21.41c.39.39.9.59 1.41.59.51 0 1.02-.2 1.41-.59l7.78-7.78 2.81-2.81c.8-.78.8-2.07 0-2.86zM5.41 20L4 18.59l7.72-7.72 1.47 1.35L5.41 20z\"/>\n",
              "  </svg>\n",
              "      </button>\n",
              "      \n",
              "  <style>\n",
              "    .colab-df-container {\n",
              "      display:flex;\n",
              "      flex-wrap:wrap;\n",
              "      gap: 12px;\n",
              "    }\n",
              "\n",
              "    .colab-df-convert {\n",
              "      background-color: #E8F0FE;\n",
              "      border: none;\n",
              "      border-radius: 50%;\n",
              "      cursor: pointer;\n",
              "      display: none;\n",
              "      fill: #1967D2;\n",
              "      height: 32px;\n",
              "      padding: 0 0 0 0;\n",
              "      width: 32px;\n",
              "    }\n",
              "\n",
              "    .colab-df-convert:hover {\n",
              "      background-color: #E2EBFA;\n",
              "      box-shadow: 0px 1px 2px rgba(60, 64, 67, 0.3), 0px 1px 3px 1px rgba(60, 64, 67, 0.15);\n",
              "      fill: #174EA6;\n",
              "    }\n",
              "\n",
              "    [theme=dark] .colab-df-convert {\n",
              "      background-color: #3B4455;\n",
              "      fill: #D2E3FC;\n",
              "    }\n",
              "\n",
              "    [theme=dark] .colab-df-convert:hover {\n",
              "      background-color: #434B5C;\n",
              "      box-shadow: 0px 1px 3px 1px rgba(0, 0, 0, 0.15);\n",
              "      filter: drop-shadow(0px 1px 2px rgba(0, 0, 0, 0.3));\n",
              "      fill: #FFFFFF;\n",
              "    }\n",
              "  </style>\n",
              "\n",
              "      <script>\n",
              "        const buttonEl =\n",
              "          document.querySelector('#df-bc47098e-4dd5-497d-b738-5cfd36305842 button.colab-df-convert');\n",
              "        buttonEl.style.display =\n",
              "          google.colab.kernel.accessAllowed ? 'block' : 'none';\n",
              "\n",
              "        async function convertToInteractive(key) {\n",
              "          const element = document.querySelector('#df-bc47098e-4dd5-497d-b738-5cfd36305842');\n",
              "          const dataTable =\n",
              "            await google.colab.kernel.invokeFunction('convertToInteractive',\n",
              "                                                     [key], {});\n",
              "          if (!dataTable) return;\n",
              "\n",
              "          const docLinkHtml = 'Like what you see? Visit the ' +\n",
              "            '<a target=\"_blank\" href=https://colab.research.google.com/notebooks/data_table.ipynb>data table notebook</a>'\n",
              "            + ' to learn more about interactive tables.';\n",
              "          element.innerHTML = '';\n",
              "          dataTable['output_type'] = 'display_data';\n",
              "          await google.colab.output.renderOutput(dataTable, element);\n",
              "          const docLink = document.createElement('div');\n",
              "          docLink.innerHTML = docLinkHtml;\n",
              "          element.appendChild(docLink);\n",
              "        }\n",
              "      </script>\n",
              "    </div>\n",
              "  </div>\n",
              "  "
            ]
          },
          "metadata": {},
          "execution_count": 91
        }
      ]
    },
    {
      "cell_type": "code",
      "source": [
        "def hierarchical_clustering(train,label,cluster, linkage = 'ward'):\n",
        "    #cluster is some number\n",
        "    #careful: data_dict must be in the same form as when you input data as dictionary for subset function above\n",
        "\n",
        "    combined_data = train.reshape(train.shape[0], train.shape[1]*train.shape[2]) \n",
        "    model = sklearn_cluster.AgglomerativeClustering(cluster, linkage = linkage)\n",
        "    cluster_hierarchies = model.fit_predict( combined_data)\n",
        "    hierarchical_model = pd.DataFrame({\"Funds\": label, \"Cluster\": cluster_hierarchies})\n",
        "\n",
        "    silh_score = metrics.silhouette_score(combined_data, hierarchical_model.Cluster)\n",
        "    ch_score = metrics.calinski_harabasz_score(combined_data, hierarchical_model.Cluster)\n",
        "    db_score = metrics.davies_bouldin_score(combined_data, hierarchical_model.Cluster)\n",
        "    # s_dbw_score = S_Dbw(np.array(combined_data), hierarchical_model.Cluster)\n",
        "\n",
        "    return (silh_score, ch_score, db_score) , hierarchical_model"
      ],
      "metadata": {
        "id": "2fJev1MiyBW3"
      },
      "execution_count": null,
      "outputs": []
    },
    {
      "cell_type": "code",
      "source": [
        "# main function\n",
        "def k_means_clustering(train,label,cluster):\n",
        "\n",
        "    model = TimeSeriesKMeans(cluster, verbose = True, random_state = 1)\n",
        "    cluster_k_means = model.fit_predict(train)\n",
        "    k_means_model = pd.DataFrame({\"Funds\": label, \"Cluster\": cluster_k_means})\n",
        "\n",
        "    eval_data = train.reshape(train.shape[0], train.shape[1]*train.shape[2])\n",
        "\n",
        "    silh_score = metrics.silhouette_score(eval_data, k_means_model.Cluster)\n",
        "    ch_score = metrics.calinski_harabasz_score(eval_data, k_means_model.Cluster)\n",
        "    db_score = metrics.davies_bouldin_score(eval_data, k_means_model.Cluster)\n",
        "    # s_dbw_score = S_Dbw(np.array(eval_data), k_means_model.Cluster)\n",
        "\n",
        "    return (silh_score, ch_score, db_score), k_means_model"
      ],
      "metadata": {
        "id": "6trkmGs8yrBd"
      },
      "execution_count": null,
      "outputs": []
    },
    {
      "cell_type": "code",
      "source": [
        "# a,b = hierarchical_clustering(train,label,30, linkage = 'ward')\n",
        "# b.groupby('Cluster').size()\n",
        "df = k_means_clustering(train,label,30)"
      ],
      "metadata": {
        "colab": {
          "base_uri": "https://localhost:8080/"
        },
        "id": "B_onJ6ozzItL",
        "outputId": "a2cf17dc-6e09-49e3-ed87-79835ad9b0e2"
      },
      "execution_count": null,
      "outputs": [
        {
          "output_type": "stream",
          "name": "stdout",
          "text": [
            "89.804 --> 73.284 --> 71.944 --> 71.297 --> 70.953 --> 70.732 --> 70.632 --> 70.528 --> 70.415 --> 70.337 --> 70.209 --> 70.046 --> 69.807 --> 69.695 --> 69.611 --> 69.565 --> 69.521 --> 69.449 --> 69.309 --> 69.168 --> 69.049 --> 69.000 --> 68.981 --> 68.970 --> 68.960 --> 68.955 --> 68.953 --> 68.953 --> 68.952 --> 68.950 --> 68.949 --> 68.944 --> 68.940 --> 68.935 --> 68.922 --> 68.900 --> 68.882 --> 68.869 --> 68.855 --> 68.845 --> 68.836 --> 68.824 --> 68.814 --> 68.809 --> 68.804 --> 68.800 --> 68.796 --> 68.793 --> 68.790 --> 68.789 --> \n"
          ]
        }
      ]
    },
    {
      "cell_type": "code",
      "source": [
        ""
      ],
      "metadata": {
        "id": "1F1_qt8kWxTR"
      },
      "execution_count": null,
      "outputs": []
    },
    {
      "cell_type": "code",
      "source": [
        ""
      ],
      "metadata": {
        "id": "db_zktllWxzK"
      },
      "execution_count": null,
      "outputs": []
    },
    {
      "cell_type": "code",
      "source": [
        ""
      ],
      "metadata": {
        "id": "MAbtCBtCWyK8"
      },
      "execution_count": null,
      "outputs": []
    },
    {
      "cell_type": "code",
      "source": [
        ""
      ],
      "metadata": {
        "id": "Hq5HwGOnWyhv"
      },
      "execution_count": null,
      "outputs": []
    },
    {
      "cell_type": "code",
      "source": [
        "class ATE:\n",
        "    def __init__(self,label,train,n_filters=50, kernel_size=10, strides=1, n_units=[50, 1]):\n",
        "\n",
        "      self.label = label\n",
        "      self.train = train\n",
        "      self.input_dim = train.shape[-1]\n",
        "      self.timesteps = train.shape[1]\n",
        "      self.n_filters =  n_filters\n",
        "      self.kernel_size = kernel_size\n",
        "      self.strides = strides\n",
        "      self.n_units = n_units\n",
        "                                                    \n",
        "                                                                          \n",
        "    def initialize(self):\n",
        "      if self.isPrime(self.train.shape[1]):\n",
        "        print('Number of funds specified is prime. The default pool size is the number of funds.')\n",
        "        #X_train = X_train[:, :X_train.shape[1]-1, :] The previous group decided to drop the 'last' fund.\n",
        "        self.pool_size =self.train.shape[1]\n",
        "      elif self.train.shape[1] <= 10:\n",
        "          self.pool_size = self.train.shape[1]\n",
        "      else:\n",
        "          for i in range(2, self.train.shape[1]//2):\n",
        "                  if self.train.shape[1] % i == 0:\n",
        "                      self.pool_size = i\n",
        "\n",
        "      self.autoencoder, self.encoder, self.decoder = self.temporal_autoencoder(input_dim=self.input_dim,\n",
        "                                        timesteps = self.timesteps,\n",
        "                                        n_filters = self.n_filters,\n",
        "                                        kernel_size = self.kernel_size,\n",
        "                                        strides = self.strides,\n",
        "                                        pool_size = self.pool_size,\n",
        "                                        n_units = self.n_units) \n",
        "    def isPrime(self,n):\n",
        "      if n > 1:\n",
        "          if n == 2:\n",
        "              return True\n",
        "          if n % 2 == 0:\n",
        "              return False\n",
        "          for x in range(3, int(math.sqrt(n) + 1), 2):\n",
        "              if n % x == 0:\n",
        "                  return False\n",
        "          return True\n",
        "      return False\n",
        "\n",
        "\n",
        "    def temporal_autoencoder(self,input_dim, timesteps, n_filters, kernel_size, strides, pool_size, n_units):\n",
        "        \"\"\"\n",
        "        Temporal Autoencoder (TAE) model with Convolutional and BiLSTM layers.\n",
        "        # Arguments\n",
        "            input_dim: input dimension\n",
        "            timesteps: number of timesteps (can be None for variable length sequences)\n",
        "            n_filters: number of filters in convolutional layer\n",
        "            kernel_size: size of kernel in convolutional layer\n",
        "            strides: strides in convolutional layer\n",
        "            pool_size: pooling size in max pooling layer, must divide time series length\n",
        "            n_units: numbers of units in the two BiLSTM layers\n",
        "            alpha: coefficient in Student's kernel\n",
        "            dist_metric: distance metric between latent sequences\n",
        "        # Return\n",
        "            (ae_model, encoder_model, decoder_model): AE, encoder and decoder models\n",
        "        \"\"\"\n",
        "        assert(timesteps % pool_size == 0)\n",
        "\n",
        "        # Input\n",
        "        x = Input(shape=(timesteps, input_dim), name='input_seq')\n",
        "\n",
        "        # Encoder\n",
        "        encoded = Conv1D(n_filters, kernel_size, strides=strides, padding='same', activation='linear')(x)\n",
        "        encoded = LeakyReLU()(encoded)\n",
        "        encoded = MaxPool1D(pool_size)(encoded)\n",
        "        encoded = Bidirectional(CuDNNLSTM(n_units[0], return_sequences=True), merge_mode='sum')(encoded)\n",
        "        encoded = LeakyReLU()(encoded)\n",
        "        encoded = Bidirectional(CuDNNLSTM(n_units[1], return_sequences=True), merge_mode='sum')(encoded)\n",
        "        encoded = LeakyReLU(name='latent')(encoded)\n",
        "\n",
        "        # Decoder\n",
        "        decoded = Reshape((-1, 1, n_units[1]), name='reshape')(encoded)\n",
        "        decoded = UpSampling2D((pool_size, 1), name='upsampling')(decoded)  #decoded = UpSampling1D(pool_size, name='upsampling')(decoded)\n",
        "        decoded = Conv2DTranspose(input_dim, (kernel_size, 1), padding='same', name='conv2dtranspose')(decoded)\n",
        "        output = Reshape((-1, input_dim), name='output_seq')(decoded)  #output = Conv1D(1, kernel_size, strides=strides, padding='same', activation='linear', name='output_seq')(decoded)\n",
        "\n",
        "        # AE model\n",
        "        autoencoder = Model(inputs=x, outputs=output, name='AE')\n",
        "\n",
        "        # Encoder model\n",
        "        encoder = Model(inputs=x, outputs=encoded, name='encoder')\n",
        "\n",
        "        # Create input for decoder model\n",
        "        encoded_input = Input(shape=(timesteps // pool_size, n_units[1]), name='decoder_input')\n",
        "\n",
        "        # Internal layers in decoder\n",
        "        decoded = autoencoder.get_layer('reshape')(encoded_input)\n",
        "        decoded = autoencoder.get_layer('upsampling')(decoded)\n",
        "        decoded = autoencoder.get_layer('conv2dtranspose')(decoded)\n",
        "        decoder_output = autoencoder.get_layer('output_seq')(decoded)\n",
        "\n",
        "        # Decoder model\n",
        "        decoder = Model(inputs=encoded_input, outputs=decoder_output, name='decoder')\n",
        "\n",
        "        return autoencoder, encoder, decoder\n",
        "\n"
      ],
      "metadata": {
        "id": "k6mftHc_6WC1"
      },
      "execution_count": null,
      "outputs": []
    },
    {
      "cell_type": "code",
      "source": [
        "def DTC_auto_fit( label ,X_train ,\n",
        "                 n_clusters = 10, n_filters = 50, kernel_size = 10, strides = 1,\n",
        "                 n_units=[50, 1], alpha = 1.0, dist_metric='eucl', cluster_init='kmeans',\n",
        "                 gamma = 1, optimizer = 'adam', learning_rate = 0.0001,\n",
        "                 ae_weights = None,\n",
        "                 pretrain_optimizer = 'adam', pretrain_epochs = 10, batch_size = 64, tol = 0.001, patience = 5, \n",
        "                 save_dir = None,\n",
        "                 dtc_epochs = 100):\n",
        "\n",
        "    # X_train = X_train.T\n",
        "    #Determine the pool size:\n",
        "    if isPrime(X_train.shape[1]):\n",
        "        print('Number of funds specified is prime. The default pool size is the number of funds.')\n",
        "        #X_train = X_train[:, :X_train.shape[1]-1, :] The previous group decided to drop the 'last' fund.\n",
        "        pool_size = X_train.shape[1]\n",
        "    elif X_train.shape[1] <= 10:\n",
        "        pool_size = X_train.shape[1]\n",
        "    else:\n",
        "        for i in range(2, X_train.shape[1]//2):\n",
        "                if X_train.shape[1] % i == 0:\n",
        "                    pool_size = i\n",
        "    \n",
        "    if save_dir is not None:\n",
        "      if not os.path.exists(save_dir):\n",
        "          os.makedirs(save_dir)\n",
        "\n",
        "    #Instantiate the model\n",
        "    dtc = DTC(n_clusters = n_clusters,\n",
        "              input_dim = X_train.shape[-1],\n",
        "              timesteps = X_train.shape[1],\n",
        "              n_filters = n_filters,\n",
        "              kernel_size = kernel_size,\n",
        "              strides = strides,\n",
        "              pool_size = pool_size,\n",
        "              n_units = n_units,\n",
        "              alpha = alpha,\n",
        "              dist_metric = dist_metric,\n",
        "              cluster_init = cluster_init)\n",
        "    \n",
        "    #Initialize the model\n",
        "    dtc.initialize()\n",
        "    print(dtc.model.summary())\n",
        "    \n",
        "    if optimizer == 'adam':\n",
        "        import tensorflow as tf\n",
        "        from tensorflow import keras\n",
        "        opt = keras.optimizers.Adam(learning_rate = learning_rate)\n",
        "        dtc.compile(gamma = gamma, optimizer = opt)\n",
        "    else:\n",
        "        dtc.compile(gamma = gamma, optimizer = optimizer)\n",
        "\n",
        "    # Load pre-trained AE weights or pre-train\n",
        "    if ae_weights is None and pretrain_epochs > 0:\n",
        "        dtc.pretrain(X = X_train, optimizer = pretrain_optimizer,\n",
        "                     epochs = pretrain_epochs, batch_size = batch_size,\n",
        "                     save_dir = save_dir)\n",
        "    # elif args.ae_weights is not None:\n",
        "    #     dtc.load_ae_weights(args.ae_weights)\n",
        "\n",
        "    # Initialize clusters\n",
        "    dtc.init_cluster_weights(X_train)\n",
        "    \n",
        "    # Fit model\n",
        "    t0 = time()\n",
        "    dtc.fit(X_train = X_train, \n",
        "            epochs = dtc_epochs, \n",
        "            eval_epochs = dtc_epochs//10, \n",
        "            save_epochs = dtc_epochs//10, \n",
        "            batch_size = batch_size, \n",
        "            tol = tol, \n",
        "            patience = patience, \n",
        "            save_dir = save_dir)\n",
        "    \n",
        "    \n",
        "    q = dtc.model.predict(X_train)\n",
        "    clustering_output = pd.DataFrame({\"Funds\": label, \"Cluster\": q[1].argmax(axis = 1)})\n",
        "    return clustering_output"
      ],
      "metadata": {
        "id": "SGBK-P24OqTk"
      },
      "execution_count": null,
      "outputs": []
    }
  ]
}